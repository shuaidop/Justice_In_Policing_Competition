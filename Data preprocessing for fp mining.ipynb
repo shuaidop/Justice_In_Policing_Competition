{
  "cells": [
    {
      "metadata": {
        "_uuid": "d53c16d8b8fa0ffa09ba55c51c6b95d5731ae9f8"
      },
      "cell_type": "markdown",
      "source": "# Overview"
    },
    {
      "metadata": {
        "_uuid": "a3022f76f8780c029b952a4660ff7e2c11ba4d99"
      },
      "cell_type": "markdown",
      "source": "The problem provided by The Center for Policing Equity(CPE) aims to find a way of measuring justice and solve the problem of racism in policing. In order to find clear and significant information to determine which factor or what kinds of areas are likely to cause or have racial disparity and to extract the essential information from these data, the first thing we need to do is to have a clear understanding of our dataset."
    },
    {
      "metadata": {
        "_uuid": "480ae6eada18d8c58b25c1d5a2808154a65dcb36"
      },
      "cell_type": "markdown",
      "source": "# Data Set"
    },
    {
      "metadata": {
        "_uuid": "e11fc7ad728436d912348cb1ff04d53d8c6b9300"
      },
      "cell_type": "markdown",
      "source": "The dataset of Data Science for Good contains both the police records and the geometry information files among 12 cities. To make good use of our data, the first thing to do is to map our arrest record with our police department data and geometry data. When first having a glance at the arrest record dataset most of them recorded the longitude and latitude of the crime happened location, which can be mapped with the and shapefiles by checking if the polygon contains the arrested record points. By doing so, we can exclude the arrest point (also can be reagred as outliers ) which are not laied in under given police sectors. \n\nThe ACS dataset constains the census information of each [Census Tract](https://en.wikipedia.org/wiki/Census_tract). To combine the ACS information with the arrest record, we introduce the knowledge of Racism Index which measures the Segregation, Education, Economics, Employment and provides a better and comprehensible measurement of racial disparity according to Segregation, Education, Economics, and Employment factors. The index calculation will be detailed explaned in the other kernal. By checking the geometry relationship of each census tract and our arrest record data, we can update the GEOid to each arrest record and in this way, the census data and arrest record are mapped with each other."
    },
    {
      "metadata": {
        "_uuid": "549b7f653de9c656ce7fbc64d6c85adaee1eda63"
      },
      "cell_type": "markdown",
      "source": "# Methodology of Mining"
    },
    {
      "metadata": {
        "_uuid": "7106a1c2defe35620a192e8a24b21992772b365a"
      },
      "cell_type": "markdown",
      "source": "Mapped our arrest data with the ACS data, we can update the arrest ratio on each tract, and by mapping with the  police sectors data, we then can get the arrest ratio of each race under different police sectors. After getting the combined dataset, we decide to use frequent pattern mining to see if there exist any strong association rules and also by doing so can eliminate unrelated variables."
    },
    {
      "metadata": {
        "_uuid": "8f2839f25d086af736a60e9eeb907d3b93b6e0e5",
        "_cell_guid": "b1076dfc-b9ad-4769-8c92-a6c4dae69d19",
        "trusted": true,
        "_kg_hide-input": true
      },
      "cell_type": "code",
      "source": "import numpy as np\nimport geopandas as gpd\nfrom geopandas.tools import sjoin\nfrom matplotlib import pyplot as plt\nimport pandas as pd\nfrom shapely.geometry import Point\nimport os\nimport seaborn as sns\nimport folium\nfrom folium import plugins\nimport geopandas as gpd\nimport plotly.graph_objs as go\nimport plotly.plotly as py\nfrom shapely.geometry import Point\n\n\n# Any results you write to the current directory are saved as output.",
      "execution_count": null,
      "outputs": []
    },
    {
      "metadata": {
        "_uuid": "2523c30c14973578a93e09f9a1000da88e0bc3b6"
      },
      "cell_type": "markdown",
      "source": "The data folder of our main data: "
    },
    {
      "metadata": {
        "_cell_guid": "79c7e3d0-c299-4dcb-8224-4455121ee9b0",
        "_uuid": "d629ff2d2480ee46fbb7e2d37f6b5fab8052498a",
        "trusted": true,
        "_kg_hide-input": false
      },
      "cell_type": "code",
      "source": "os.listdir(\"../input/data-science-for-good/cpe-data\")",
      "execution_count": null,
      "outputs": []
    },
    {
      "metadata": {
        "_uuid": "f59a59dd967443c66d59afa6b5366920b2a3e356"
      },
      "cell_type": "markdown",
      "source": "From these 12 department, we choose to use only 5 of them:\nDept-2400013 Minnesota\nDept-2400098 St Paul\nDept-3700027 Austin\nDept-3500016 Orlando\nDept-3700049 Dallas"
    },
    {
      "metadata": {
        "_uuid": "42aad20b63a4919c050fb003436ac87d3be48c8d"
      },
      "cell_type": "markdown",
      "source": "# Austin"
    },
    {
      "metadata": {
        "_uuid": "9f38e68d40f8f6de2624dbd2ecfe72818c940259"
      },
      "cell_type": "markdown",
      "source": "First, let us have a look at the arrest file. For future mapping, we need to convert the longitude and latitude to the shaply geometry point."
    },
    {
      "metadata": {
        "_uuid": "f5664796732e375320ec9bbeca21851bd12fd417"
      },
      "cell_type": "markdown",
      "source": "Austin arrest file"
    },
    {
      "metadata": {
        "trusted": true,
        "_uuid": "fadf533ba7b5a717c2398a70223dd34877200ffb",
        "_kg_hide-input": true
      },
      "cell_type": "code",
      "source": "force_df = pd.read_csv('../input/data-science-for-good/cpe-data//Dept_37-00027'+\n                         '/37-00027_UOF-P_2014-2016_prepped.csv')\nforce_clean_df = force_df.loc[1:].reset_index(drop=True)\nforce_clean_df ['LOCATION_LONGITUDE']= pd.to_numeric(force_clean_df['LOCATION_LONGITUDE'], downcast='float') \nforce_clean_df ['LOCATION_LATITUDE']= pd.to_numeric(force_clean_df['LOCATION_LATITUDE'], downcast='float') \nforce_clean_df = force_clean_df[np.isfinite(force_clean_df['LOCATION_LONGITUDE'])]\nforce_clean_df=force_clean_df[force_clean_df['LOCATION_LONGITUDE']!=0].reset_index(drop=True)\nfoo=lambda x: Point(x['LOCATION_LONGITUDE'],x['LOCATION_LATITUDE'])\nforce_clean_df['geometry'] = (force_clean_df.apply(foo, axis=1))\nforce_clean_df = gpd.GeoDataFrame(force_clean_df, geometry='geometry')\nforce_clean_df.crs = {'init' :'epsg:4326'}\npolice_df_Austin = gpd.read_file('../input/data-science-for-good/cpe-data/'\n                                 +'Dept_37-00027/37-00027_Shapefiles/APD_DIST.shp')\npolice_df_Austin.crs = {'init' :'esri:102739'}\npolice_df_Austin = police_df_Austin.to_crs(epsg='4326')\nforce_clean_df.head()",
      "execution_count": null,
      "outputs": []
    },
    {
      "metadata": {
        "trusted": true,
        "_uuid": "578e5f3c268f4ace04b0955a2a2bf8f952b408ec",
        "_kg_hide-input": true
      },
      "cell_type": "code",
      "source": "locations_df = pd.DataFrame()\nlocationlist=[]\nlocations_df['LOCATION_LONGITUDE']=force_clean_df['LOCATION_LONGITUDE'].astype(float)\nlocations_df['LOCATION_LATITUDE'] =force_clean_df['LOCATION_LATITUDE'].astype(float)\nfor i, r in locations_df.iterrows():\n    locationlist.append([r['LOCATION_LONGITUDE'],r['LOCATION_LATITUDE']])",
      "execution_count": null,
      "outputs": []
    },
    {
      "metadata": {
        "_uuid": "931a9f800fda33614b82ea9ead36b067717516cc"
      },
      "cell_type": "markdown",
      "source": ""
    },
    {
      "metadata": {
        "trusted": true,
        "_uuid": "77de5a8dcee2f9a9de1b978f2812feca504ac09b"
      },
      "cell_type": "code",
      "source": "fig1,ax = plt.subplots(1,2,figsize=(20,10))\npolice_df_Austin.plot(ax=ax[0],column='SECTOR',alpha=0.5,legend=True)\ns=force_clean_df['INCIDENT_REASON']\ns.value_counts().plot(kind='bar',ax=ax[1],rot=10)\nforce_clean_df.plot(marker='.',ax=ax[0])",
      "execution_count": null,
      "outputs": []
    },
    {
      "metadata": {
        "_uuid": "fbff7f4c97596ef4c3e8ba620be6adce2d0158ff"
      },
      "cell_type": "markdown",
      "source": "From the arrest plot we can see that for sector APT it only has one record. Due to the number of arrest  record in this sector, it most likely will bring bias to our result, so we will exclude this department.\nThen let have a look at the race ratio among all the arrest record\nsubject race pie chart"
    },
    {
      "metadata": {
        "trusted": true,
        "_uuid": "eb21e40d208783baf148ad0197f5382599306de1"
      },
      "cell_type": "code",
      "source": "\nforce_clean_df.SUBJECT_RACE.value_counts()\nprint(force_clean_df.SUBJECT_RACE.value_counts())\nfig1, ax1 = plt.subplots()\nax1.pie(force_clean_df.SUBJECT_RACE.value_counts(),labels=force_clean_df.SUBJECT_RACE.value_counts().keys(),autopct='%1.1f%%',startangle=90,  shadow=True)\nax1.axis('equal')\nplt.show()\n",
      "execution_count": null,
      "outputs": []
    },
    {
      "metadata": {
        "trusted": true,
        "_uuid": "cb74472b6fbfdc0fbc038d7321f54aef5d789ed5"
      },
      "cell_type": "markdown",
      "source": "The pie chart shows that Hispanic, White, and Black construct most of the area, so if other departments also has a large population of this three races, then we could only include the arrest ratio of these there major races in our frequent pattern mining procedure.\n\n\nTexas Census file:"
    },
    {
      "metadata": {
        "trusted": true,
        "_uuid": "58ae1d5b68fdd0369de3ceee22e10d33cef0c147"
      },
      "cell_type": "code",
      "source": "census_poverty_df = pd.read_csv('../input/data-science-for-good/cpe-data/'+\n                                'Dept_37-00027/37-00027_ACS_data/37-00027_ACS_poverty/'+\n                                'ACS_15_5YR_S1701_with_ann.csv')\ncensus_poverty_df = census_poverty_df.iloc[1:].reset_index(drop=True)\ncensus_poverty_df = census_poverty_df.rename(columns={'GEO.id2':'GEOID'})\ncensus_tracts_gdf = gpd.read_file(\"../input/texgeo/cb_2017_48_tract_500k /cb_2017_48_tract_500k//cb_2017_48_tract_500k.shp\")\ncensus_merged_gdf = census_tracts_gdf.merge(census_poverty_df, on = 'GEOID')\ncensus_merged_gdf = census_merged_gdf.to_crs(epsg='4326')\ncensus_merged_gdf.head()",
      "execution_count": null,
      "outputs": []
    },
    {
      "metadata": {
        "trusted": true,
        "_uuid": "db4d0e1f53674c04e88ce7d8cef58adac2fdb27b"
      },
      "cell_type": "markdown",
      "source": "Inorder to have a more clear view of the arrest data we plot the data on the map"
    },
    {
      "metadata": {
        "trusted": true,
        "_uuid": "31890d8655b313580a7e5390c521e8cc57b8c843"
      },
      "cell_type": "code",
      "source": "mapa = folium.Map([30.3, -97.7],zoom_start=10, height=500)\nlocations_df = force_clean_df[[\"LOCATION_LATITUDE\", \"LOCATION_LONGITUDE\"]].copy()\nlocations_df = locations_df.iloc[locations_df[['LOCATION_LATITUDE','LOCATION_LONGITUDE']].dropna().index].reset_index(drop=True)\nlocations_df[\"LOCATION_LATITUDE\"] = locations_df[\"LOCATION_LATITUDE\"].astype('float')\nlocations_df[\"LOCATION_LONGITUDE\"] = locations_df[\"LOCATION_LONGITUDE\"].astype('float')\nlocationlist = locations_df.values.tolist()[-2000:]\nfor point in range(0, len(locationlist)):\n    folium.CircleMarker(locationlist[point], radius=0.1, color='red').add_to(mapa)\n\nmapa",
      "execution_count": null,
      "outputs": []
    },
    {
      "metadata": {
        "_uuid": "2eb017e92165298dc0f5c0458c54f025ff851256"
      },
      "cell_type": "markdown",
      "source": "District list:"
    },
    {
      "metadata": {
        "trusted": true,
        "_uuid": "0bf3313d2f15dcd4eb7e87aba5e77c28178f5618"
      },
      "cell_type": "code",
      "source": "DB_district_list=[k for k in force_clean_df['LOCATION_DISTRICT'].value_counts().keys()]\nDB_district_list",
      "execution_count": null,
      "outputs": []
    },
    {
      "metadata": {
        "trusted": true,
        "_uuid": "2372db9fcf44a4f8723f912b84448aeea6a87685"
      },
      "cell_type": "markdown",
      "source": "Update the arrest file GeoID by check if it is contianed by the cunsus track file. "
    },
    {
      "metadata": {
        "_uuid": "7d42b6e4e930a47f8cc2b552fd999f26260d998f"
      },
      "cell_type": "markdown",
      "source": "The final file for index calculation:"
    },
    {
      "metadata": {
        "trusted": true,
        "_uuid": "55c9d1c8318aee6182bb018ba347be297c4afab5"
      },
      "cell_type": "code",
      "source": "final_aus_arrest=pd.read_csv('../input/aus-final/Dept_37-00027_arrest_GEo.csv')\nfinal_aus_arrest.head()",
      "execution_count": null,
      "outputs": []
    },
    {
      "metadata": {
        "_uuid": "e602969cc868c7b72e03bdea39273377684525b9"
      },
      "cell_type": "markdown",
      "source": "# Minneapolis"
    },
    {
      "metadata": {
        "_uuid": "84d45b576b2da4ea4a62dad1e3b62a00dac9bef3"
      },
      "cell_type": "markdown",
      "source": "Minneapolis arrest file"
    },
    {
      "metadata": {
        "trusted": true,
        "_uuid": "a3b9da77fea021711b54411651e5f5e9811dd85d"
      },
      "cell_type": "code",
      "source": "force_df = pd.read_csv(\"../input/data-science-for-good/cpe-data/Dept_24-00013/24-00013_UOF_2008-2017_prepped.csv\")\nforce_clean_df = force_df.loc[1:].reset_index(drop=True)\nforce_clean_df ['LOCATION_LONGITUDE']= pd.to_numeric(force_clean_df['LOCATION_LONGITUDE'], downcast='float') \nforce_clean_df ['LOCATION_LATITUDE']= pd.to_numeric(force_clean_df['LOCATION_LATITUDE'], downcast='float') \nforce_clean_df = force_clean_df[np.isfinite(force_clean_df['LOCATION_LONGITUDE'])]\nforce_clean_df=force_clean_df[force_clean_df['LOCATION_LONGITUDE']!=0].reset_index(drop=True)\nfoo=lambda x: Point(x['LOCATION_LONGITUDE'],x['LOCATION_LATITUDE'])\nforce_clean_df['geometry'] = (force_clean_df.apply(foo, axis=1))\nforce_clean_df = gpd.GeoDataFrame(force_clean_df, geometry='geometry')\nforce_clean_df.crs = {'init' :'epsg:4326'}\nforce_clean_df.head()",
      "execution_count": null,
      "outputs": []
    },
    {
      "metadata": {
        "_uuid": "b9963f5963a213f78393e977c2968801927cd084"
      },
      "cell_type": "markdown",
      "source": "Minneapolis police department file"
    },
    {
      "metadata": {
        "trusted": true,
        "_uuid": "a8e9282282f3766ede03ce4df32888d61a544683"
      },
      "cell_type": "code",
      "source": "police_df = gpd.read_file( '../input/data-science-for-good/cpe-data//Dept_24-00013/'+\n                '24-00013_Shapefiles/Minneapolis_Police_Precincts.shp')\npolice_df.head()",
      "execution_count": null,
      "outputs": []
    },
    {
      "metadata": {
        "_uuid": "0af94e24a9be756ef2d24348d17f711a27e84b37"
      },
      "cell_type": "markdown",
      "source": "Arrest and police shape plot"
    },
    {
      "metadata": {
        "trusted": true,
        "_uuid": "4d3107c36f755aed1e0d551ca37e49a2c6342dd8"
      },
      "cell_type": "code",
      "source": "fig1,ax = plt.subplots(1,2,figsize=(20,10))\npolice_df.plot(ax=ax[0],alpha=0.5,legend=True)\ns=force_clean_df['REASON_FOR_FORCE']\ns.value_counts().plot(kind='bar',ax=ax[1])\nforce_clean_df.plot(marker='.',ax=ax[0],column='LOCATION_DISTRICT',legend=True)",
      "execution_count": null,
      "outputs": []
    },
    {
      "metadata": {
        "_uuid": "fef3112ab12571e9d7e4e9c149c1323f56a371b0"
      },
      "cell_type": "markdown",
      "source": "Subject race pie chart"
    },
    {
      "metadata": {
        "trusted": true,
        "_uuid": "b4e429c01625cac0545637df93423b80520c394d"
      },
      "cell_type": "code",
      "source": "force_clean_df.SUBJECT_RACE.value_counts()\nprint(force_clean_df.SUBJECT_RACE.value_counts())\nfig1, ax1 = plt.subplots()\nax1.pie(force_clean_df.SUBJECT_RACE.value_counts(),labels=force_clean_df.SUBJECT_RACE.value_counts().keys(),autopct='%1.1f%%',startangle=90,  shadow=True)\nax1.axis('equal')\nplt.show()",
      "execution_count": null,
      "outputs": []
    },
    {
      "metadata": {
        "trusted": true,
        "_uuid": "37a9dfe4a5e0eda93a2ad667a570ff0af01c8098"
      },
      "cell_type": "markdown",
      "source": "The pie chart shows that the major races are white and black in this area\n"
    },
    {
      "metadata": {
        "_uuid": "f39702035f9fd96b686de9daaa56f876765176b8"
      },
      "cell_type": "markdown",
      "source": "Census data  file"
    },
    {
      "metadata": {
        "trusted": true,
        "_uuid": "7456b140dc9ab21411dc9080ce34a9e09a222716"
      },
      "cell_type": "code",
      "source": "census_tract_df=gpd.read_file(\"../input/minneapolis/cb_2017_27_tract_500k /cb_2017_27_tract_500k.shp\")\ncensus_tract_df.head()",
      "execution_count": null,
      "outputs": []
    },
    {
      "metadata": {
        "trusted": true,
        "_uuid": "1a810be03b08db49197de983246b41319f8834fe"
      },
      "cell_type": "markdown",
      "source": "Arrest record on the map"
    },
    {
      "metadata": {
        "trusted": true,
        "_uuid": "c4dac21f6b9c306710002c0c67fe3f97ade93d02"
      },
      "cell_type": "code",
      "source": "mapa = folium.Map([45, -93.3], height=500, zoom_start=11)\n\nfolium.GeoJson(police_df).add_to(mapa)\nlocations_df = force_clean_df[[\"LOCATION_LATITUDE\", \"LOCATION_LONGITUDE\"]].copy()\nnotna = locations_df[['LOCATION_LATITUDE','LOCATION_LONGITUDE']].dropna().index\nlocations_df = locations_df.iloc[notna].reset_index(drop=True)\nlocations_df[\"LOCATION_LATITUDE\"] = locations_df[\"LOCATION_LATITUDE\"].astype('float')\nlocations_df[\"LOCATION_LONGITUDE\"] = locations_df[\"LOCATION_LONGITUDE\"].astype('float')\nlocationlist = locations_df.values.tolist()[-2000:]\nfor point in range(0, len(locationlist)):\n    folium.CircleMarker(locationlist[point], radius=0.1, color='red').add_to(mapa)\n\nmapa ",
      "execution_count": null,
      "outputs": []
    },
    {
      "metadata": {
        "_uuid": "5d71e74ce003bc7360d9c03b797c7bcac42cc888",
        "trusted": true,
        "_kg_hide-input": true
      },
      "cell_type": "code",
      "source": "overlap_police=gpd.GeoDataFrame(columns=census_tract_df.columns)\nitem_set=[]\nfor index1,x in police_df.iterrows():\n    lst_geoid=[]\n    for index2, y in census_tract_df.iterrows():\n        if x['geometry'].contains(y['geometry']) or y['geometry'].intersects(x['geometry']) or y['geometry'].contains(x['geometry']):\n            if y['GEOID'] not in item_set:\n                lst_geoid.append(y['GEOID'])\n                item_set.append(y['GEOID'])\n                police_df.at[index1,'GEOid']=lst_geoid\n                overlap_police.loc[-1]=y\n                overlap_police.index = overlap_police.index + 1",
      "execution_count": null,
      "outputs": []
    },
    {
      "metadata": {
        "_uuid": "646b68ac45849de0a65e15613cf38eaf8b7843ab"
      },
      "cell_type": "markdown",
      "source": "Merged census data with the arrest record:"
    },
    {
      "metadata": {
        "trusted": true,
        "_uuid": "ae8a423fabafb7a2a30240f9ccda74faf92db5a4"
      },
      "cell_type": "code",
      "source": "fig2,ax2 = plt.subplots()\nforce_clean_df.plot(ax=ax2,marker='.',column='LOCATION_DISTRICT',legend=True,markersize=20)\noverlap_police.plot(ax=ax2,color='0.7',alpha=.5,edgecolor='white')\n\nfig2.set_size_inches(10,10)",
      "execution_count": null,
      "outputs": []
    },
    {
      "metadata": {
        "_uuid": "c06983574e1aa1f46b1ad485ac0f9d4e19edbf43"
      },
      "cell_type": "markdown",
      "source": "After the data set merged, then we can assign each GEOid to the arrest record by check if the arrest happened location is in that census tract"
    },
    {
      "metadata": {
        "_uuid": "2b5b6c3c0269441176fd7e9fdc2b63d84e0cec4e"
      },
      "cell_type": "markdown",
      "source": "The final file for index calculation after update the GEOid for each arrest record:"
    },
    {
      "metadata": {
        "trusted": true,
        "_uuid": "cba57fd42cf418db825abd4db335a05f0409652b"
      },
      "cell_type": "code",
      "source": "final_aus_arrest=pd.read_csv('../input/min-fin/Dept_2400013_arrest_GEo.csv')\nfinal_aus_arrest.head()",
      "execution_count": null,
      "outputs": []
    },
    {
      "metadata": {
        "_uuid": "8ae069b313c8c49c82caee10e1b697a533e60a4e"
      },
      "cell_type": "markdown",
      "source": "# Saint Paul"
    },
    {
      "metadata": {
        "_uuid": "2e38e81cf108db454163ffb5febc24a049ebd919"
      },
      "cell_type": "markdown",
      "source": "Arrest repord with shapely point"
    },
    {
      "metadata": {
        "_kg_hide-input": false,
        "trusted": true,
        "_uuid": "d0345b8301cd30e8571b0b29c9ac3a53cfd2631f"
      },
      "cell_type": "code",
      "source": "force_df = pd.read_csv(\"../input/data-science-for-good/cpe-data/Dept_24-00098/24-00098_Vehicle-Stops-data.csv\")\nforce_clean_df = force_df.loc[1:].reset_index(drop=True)\nforce_clean_df ['LOCATION_LONGITUDE']= pd.to_numeric(force_clean_df['LOCATION_LONGITUDE'], downcast='float') \nforce_clean_df ['LOCATION_LATITUDE']= pd.to_numeric(force_clean_df['LOCATION_LATITUDE'], downcast='float') \nforce_clean_df = force_clean_df[np.isfinite(force_clean_df['LOCATION_LONGITUDE'])]\nforce_clean_df=force_clean_df[force_clean_df['LOCATION_LONGITUDE']!=0].reset_index(drop=True)\nfoo=lambda x: Point(x['LOCATION_LONGITUDE'],x['LOCATION_LATITUDE'])\nforce_clean_df['geometry'] = (force_clean_df.apply(foo, axis=1))\nforce_clean_df = gpd.GeoDataFrame(force_clean_df, geometry='geometry')\nforce_clean_df.crs = {'init' :'epsg:4326'}\nforce_clean_df.head()",
      "execution_count": null,
      "outputs": []
    },
    {
      "metadata": {
        "_uuid": "d1af014cb7f550047cc2cb2e3b5ca21d61bf154c"
      },
      "cell_type": "markdown",
      "source": "Police department geometry data file"
    },
    {
      "metadata": {
        "trusted": true,
        "_uuid": "cc218936782c2eb15249cbb7f41bf776d1f615fa"
      },
      "cell_type": "code",
      "source": "police_df = gpd.read_file('../input/data-science-for-good/cpe-data/Dept_24-00098/24-00098_Shapefiles/StPaul_geo_export_6646246d-0f26-48c5-a924-f5a99bb51c47.shp')\npolice_df.head()",
      "execution_count": null,
      "outputs": []
    },
    {
      "metadata": {
        "_uuid": "4bf42a9afcd0c5752bd9c653eda83e6e98308cc6"
      },
      "cell_type": "markdown",
      "source": "The St Paul dataset contains much more arrest records than other data set and we can also see this by plot the overlapping plot of ploce department and arrest record"
    },
    {
      "metadata": {
        "_kg_hide-input": false,
        "trusted": true,
        "_uuid": "9db311eabfa46c2ff366b57acc5952514f858637"
      },
      "cell_type": "code",
      "source": "\nfig2,ax2 = plt.subplots()\nforce_clean_df.plot(ax=ax2)\npolice_df.plot(ax=ax2,color='0.7',alpha=.5,edgecolor='white')\n\nfig2.set_size_inches(10,10)",
      "execution_count": null,
      "outputs": []
    },
    {
      "metadata": {
        "_uuid": "70e89e22bf2331f5013b9d79913d1495dcaf4f7f"
      },
      "cell_type": "markdown",
      "source": "Subject Race pie Chart:"
    },
    {
      "metadata": {
        "_kg_hide-input": false,
        "trusted": true,
        "_uuid": "2b45cc04c7709e49c2aac983cc49c94a28f4b431"
      },
      "cell_type": "code",
      "source": "force_clean_df.SUBJECT_RACE.value_counts()\nprint(force_clean_df.SUBJECT_RACE.value_counts())\nfig1, ax1 = plt.subplots()\nax1.pie(force_clean_df.SUBJECT_RACE.value_counts(),labels=force_clean_df.SUBJECT_RACE.value_counts().keys(),autopct='%1.1f%%',startangle=90,  shadow=True)\nax1.axis('equal')\nplt.show()",
      "execution_count": null,
      "outputs": []
    },
    {
      "metadata": {
        "_uuid": "644b585cc8df06c5bee861aadd84eca1b5d4900c"
      },
      "cell_type": "markdown",
      "source": "From the pie chart we can also point out that the major races are White and Black"
    },
    {
      "metadata": {
        "_uuid": "756070c4e39a50f604554663eb4309003f6b6d03"
      },
      "cell_type": "markdown",
      "source": "Census tract data plot:"
    },
    {
      "metadata": {
        "trusted": true,
        "_uuid": "8722f72084f5f496798bb41503ee739415bce936"
      },
      "cell_type": "code",
      "source": "census_tract_df=gpd.read_file(\"../input/stpaul/cb_2015_27_tract_500k/cb_2015_27_tract_500k.shp\")\ncensus_tract_df.plot()",
      "execution_count": null,
      "outputs": []
    },
    {
      "metadata": {
        "trusted": true,
        "_uuid": "b8cfe06b5dd4700ebbe6efc008da4a1ec55711c3"
      },
      "cell_type": "markdown",
      "source": "we can merge the census tract data set with arrest reocrd and update the GEOid to each record like we have down for the previous two dataset"
    },
    {
      "metadata": {
        "_uuid": "b0ed5e767d628fa8e6bd52256e91aef521c52d6b"
      },
      "cell_type": "markdown",
      "source": "The final data set for index calculation and mining:"
    },
    {
      "metadata": {
        "trusted": true,
        "_uuid": "d690f684c8b9b89890a4ce088fe60b6f609cdb49"
      },
      "cell_type": "code",
      "source": "final_arrest=pd.read_csv('../input/stpa-final/Dept_2400098_arrest_GEo.csv')\nfinal_arrest.head()",
      "execution_count": null,
      "outputs": []
    },
    {
      "metadata": {
        "_uuid": "7b4ebdc9100bd960442f381f2d8a9801d366d3b3"
      },
      "cell_type": "markdown",
      "source": "# Dallas"
    },
    {
      "metadata": {
        "_kg_hide-output": true,
        "_uuid": "f123c306c72708c6e6890b0baa7db893dc38c765"
      },
      "cell_type": "markdown",
      "source": "Arrest record with shapely points"
    },
    {
      "metadata": {
        "trusted": true,
        "_uuid": "8a9ee59b9688ab70446671df10af544812880fd7"
      },
      "cell_type": "code",
      "source": "force_df = pd.read_csv(\"../input/data-science-for-good/cpe-data/Dept_37-00049/37-00049_UOF-P_2016_prepped.csv\")\nforce_clean_df = force_df.loc[1:].reset_index(drop=True)\nforce_clean_df ['LOCATION_LONGITUDE']= pd.to_numeric(force_clean_df['LOCATION_LONGITUDE'], downcast='float') \nforce_clean_df ['LOCATION_LATITUDE']= pd.to_numeric(force_clean_df['LOCATION_LATITUDE'], downcast='float') \nforce_clean_df = force_clean_df[np.isfinite(force_clean_df['LOCATION_LONGITUDE'])]\nforce_clean_df=force_clean_df[force_clean_df['LOCATION_LONGITUDE']!=0].reset_index(drop=True)\nfoo=lambda x: Point(x['LOCATION_LONGITUDE'],x['LOCATION_LATITUDE'])\nforce_clean_df['geometry'] = (force_clean_df.apply(foo, axis=1))\nforce_clean_df = gpd.GeoDataFrame(force_clean_df, geometry='geometry')\nforce_clean_df.crs = {'init' :'epsg:4326'}\nforce_clean_df.head()\n",
      "execution_count": null,
      "outputs": []
    },
    {
      "metadata": {
        "_uuid": "620c7abc63be2e7d05643bd0a84019de7ab35998"
      },
      "cell_type": "markdown",
      "source": "police department shape file"
    },
    {
      "metadata": {
        "trusted": true,
        "_uuid": "cc1344645f7a60036886acdbac63d6893c586e2c"
      },
      "cell_type": "code",
      "source": "police_df = gpd.read_file('../input/data-science-for-good/cpe-data/Dept_37-00049/37-00049_Shapefiles/EPIC.shp')\npolice_df=police_df.to_crs(epsg='4236')\npolice_df.head()",
      "execution_count": null,
      "outputs": []
    },
    {
      "metadata": {
        "_uuid": "bff9f9ed8f98c8454aed12bbb5a558b7976e9611"
      },
      "cell_type": "markdown",
      "source": "Map the arrest record and police dpartment file on the plot"
    },
    {
      "metadata": {
        "trusted": true,
        "_uuid": "5c9cf56bc9f721e62a740bd2e909847b30722923"
      },
      "cell_type": "code",
      "source": "fig2,ax2 = plt.subplots()\nforce_clean_df.plot(ax=ax2)\npolice_df.plot(ax=ax2,color='0.7',alpha=.5,edgecolor='white')\n\nfig2.set_size_inches(10,10)",
      "execution_count": null,
      "outputs": []
    },
    {
      "metadata": {
        "_uuid": "65cabe620c112ba58bb7941c5e3556cf10e33ee9"
      },
      "cell_type": "markdown",
      "source": "Subject race pie chart"
    },
    {
      "metadata": {
        "trusted": true,
        "_uuid": "e8847a7501eac29316c7be7b05211ba7bc3924ae"
      },
      "cell_type": "code",
      "source": "force_clean_df.SUBJECT_RACE.value_counts()\nprint(force_clean_df.SUBJECT_RACE.value_counts())\nfig1, ax1 = plt.subplots()\nax1.pie(force_clean_df.SUBJECT_RACE.value_counts(),labels=force_clean_df.SUBJECT_RACE.value_counts().keys(),autopct='%1.1f%%',startangle=90,  shadow=True)\nax1.axis('equal')\nplt.show()",
      "execution_count": null,
      "outputs": []
    },
    {
      "metadata": {
        "_uuid": "3b566537ff0284b4c17ebcee15236846e4deb479"
      },
      "cell_type": "markdown",
      "source": "The pie chart indicate the major races are black,white, and Hispanic"
    },
    {
      "metadata": {
        "trusted": true,
        "_uuid": "430a9adde8f6f8fca3ce00b15736fa0a8c868366"
      },
      "cell_type": "code",
      "source": "mapa = folium.Map([32.78, -96.79],zoom_start=10, height=500)\nlocations_df = force_clean_df[[\"LOCATION_LATITUDE\", \"LOCATION_LONGITUDE\"]].copy()\nlocations_df = locations_df.iloc[locations_df[['LOCATION_LATITUDE','LOCATION_LONGITUDE']].dropna().index].reset_index(drop=True)\nlocations_df[\"LOCATION_LATITUDE\"] = locations_df[\"LOCATION_LATITUDE\"].astype('float')\nlocations_df[\"LOCATION_LONGITUDE\"] = locations_df[\"LOCATION_LONGITUDE\"].astype('float')\nlocationlist = locations_df.values.tolist()[-2000:]\nfor point in range(0, len(locationlist)):\n    folium.CircleMarker(locationlist[point], radius=0.1, color='red').add_to(mapa)\n\nmapa",
      "execution_count": null,
      "outputs": []
    },
    {
      "metadata": {
        "trusted": true,
        "_uuid": "7e46929e81b9e5f6722451f50636d600c8ed5ebb"
      },
      "cell_type": "markdown",
      "source": "Census data plot"
    },
    {
      "metadata": {
        "trusted": true,
        "_uuid": "c7e8db9423ea2935a79cf94ce2e933c03bc4fb88"
      },
      "cell_type": "code",
      "source": "census_tract_df=gpd.read_file(\"../input/dallas/cb_2017_48_tract_500k /cb_2017_48_tract_500k/cb_2017_48_tract_500k.shp\")\ncensus_tract_df.plot()",
      "execution_count": null,
      "outputs": []
    },
    {
      "metadata": {
        "_uuid": "c42444310a710565746417590e500a8147764ab4"
      },
      "cell_type": "markdown",
      "source": "After check for overlap and updated the GEOid for each arrest record we now have the final data:"
    },
    {
      "metadata": {
        "trusted": true,
        "_uuid": "011062725fdc74065842848701fb0327a97a9769"
      },
      "cell_type": "code",
      "source": "final_arrest=pd.read_csv('../input/dala-fin/Dept_3700049_arrest_GEo.csv')\nfinal_arrest.head()",
      "execution_count": null,
      "outputs": []
    },
    {
      "metadata": {
        "trusted": true,
        "_uuid": "492e01d8100d6208e87a58a7dc78f15012e6c3ef"
      },
      "cell_type": "markdown",
      "source": "# Orlando"
    },
    {
      "metadata": {
        "_uuid": "3ecf7fde3526a8da0cb269e4887327031abfd21f"
      },
      "cell_type": "markdown",
      "source": "Arrest record data set:"
    },
    {
      "metadata": {
        "trusted": true,
        "_uuid": "6dcefc96d8abcc5d049562ad3177ab08af414d08"
      },
      "cell_type": "code",
      "source": "force_df = pd.read_csv(\"../input/data-science-for-good/cpe-data/Dept_35-00016/35-00016_UOF-OIS-P.csv\")\nforce_clean_df = force_df.loc[1:].reset_index(drop=True)\nforce_clean_df ['LOCATION_LONGITUDE']= pd.to_numeric(force_clean_df['LOCATION_LONGITUDE'], downcast='float') \nforce_clean_df ['LOCATION_LATITUDE']= pd.to_numeric(force_clean_df['LOCATION_LATITUDE'], downcast='float') \nforce_clean_df = force_clean_df[np.isfinite(force_clean_df['LOCATION_LONGITUDE'])]\nforce_clean_df=force_clean_df[force_clean_df['LOCATION_LONGITUDE']!=0].reset_index(drop=True)\nfoo=lambda x: Point(x['LOCATION_LONGITUDE'],x['LOCATION_LATITUDE'])\nforce_clean_df['geometry'] = (force_clean_df.apply(foo, axis=1))\nforce_clean_df = gpd.GeoDataFrame(force_clean_df, geometry='geometry')\nforce_clean_df.crs = {'init' :'epsg:4326'}\nforce_clean_df.head()\n",
      "execution_count": null,
      "outputs": []
    },
    {
      "metadata": {
        "_uuid": "522744aad388ba36475d9f0fc57db327b1033c01"
      },
      "cell_type": "markdown",
      "source": "Police department sectors file:"
    },
    {
      "metadata": {
        "trusted": true,
        "_uuid": "86bc7f84f485eb9128883ace9f6bc88794679bc3"
      },
      "cell_type": "code",
      "source": "police_df = gpd.read_file('../input/data-science-for-good/cpe-data/Dept_35-00016/35-00016_Shapefiles/OrlandoPoliceSectors.shp')\npolice_df=police_df.to_crs(epsg='4236')\npolice_df.head()",
      "execution_count": null,
      "outputs": []
    },
    {
      "metadata": {
        "_uuid": "9c85599574ef85a9b155de2e4502271ece3828cc"
      },
      "cell_type": "markdown",
      "source": "Cobining plot of police department sectors and arrest records"
    },
    {
      "metadata": {
        "trusted": true,
        "_uuid": "a5487456c62355609b7c4e370f4483f2dd144479"
      },
      "cell_type": "code",
      "source": "fig2,ax2 = plt.subplots()\nforce_clean_df.plot(ax=ax2)\npolice_df.plot(ax=ax2,color='0.7',alpha=.5,edgecolor='white')\n\nfig2.set_size_inches(10,10)",
      "execution_count": null,
      "outputs": []
    },
    {
      "metadata": {
        "_uuid": "a44c5673f9d409a95ba079e6b26dd022706aa789"
      },
      "cell_type": "markdown",
      "source": "Subject race among all the arrest record"
    },
    {
      "metadata": {
        "_uuid": "15abd78e4115c6f21b8cc6bb3b7ab6085ba5dc3e"
      },
      "cell_type": "markdown",
      "source": "Subject Race Pie Chart:"
    },
    {
      "metadata": {
        "trusted": true,
        "_uuid": "00f1a9f10052ad33b3cddccdba572a1255884d2b"
      },
      "cell_type": "code",
      "source": "force_clean_df.SUBJECT_RACE.value_counts()\nprint(force_clean_df.SUBJECT_RACE.value_counts())\nfig1, ax1 = plt.subplots()\nax1.pie(force_clean_df.SUBJECT_RACE.value_counts(),labels=force_clean_df.SUBJECT_RACE.value_counts().keys(),autopct='%1.1f%%',startangle=90,  shadow=True)\nax1.axis('equal')\nplt.show()",
      "execution_count": null,
      "outputs": []
    },
    {
      "metadata": {
        "_uuid": "c486f699c13e463f223819f01a207f00f7f47b31"
      },
      "cell_type": "markdown",
      "source": "The pie chart indicate the major races are Black and White among arrest records"
    },
    {
      "metadata": {
        "_kg_hide-input": true,
        "_uuid": "8c1e5693dd93bff258cbeb23f87f556b439d9420"
      },
      "cell_type": "markdown",
      "source": "Arrest data in the real map"
    },
    {
      "metadata": {
        "trusted": true,
        "_uuid": "3c6694e7622c4a7a009ff8f2e86e0ba17576641d",
        "_kg_hide-input": true
      },
      "cell_type": "code",
      "source": "mapa = folium.Map([28.53, -81.39],zoom_start=10, height=500)\nlocations_df = force_clean_df[[\"LOCATION_LATITUDE\", \"LOCATION_LONGITUDE\"]].copy()\nlocations_df = locations_df.iloc[locations_df[['LOCATION_LATITUDE','LOCATION_LONGITUDE']].dropna().index].reset_index(drop=True)\nlocations_df[\"LOCATION_LATITUDE\"] = locations_df[\"LOCATION_LATITUDE\"].astype('float')\nlocations_df[\"LOCATION_LONGITUDE\"] = locations_df[\"LOCATION_LONGITUDE\"].astype('float')\nlocationlist = locations_df.values.tolist()[-2000:]\nfor point in range(0, len(locationlist)):\n    folium.CircleMarker(locationlist[point], radius=0.1, color='red').add_to(mapa)\n\nmapa",
      "execution_count": null,
      "outputs": []
    },
    {
      "metadata": {
        "_uuid": "b9daba092935df0c4eacbd496dde3dc896d8f3ff"
      },
      "cell_type": "markdown",
      "source": "Census geometry data plot : "
    },
    {
      "metadata": {
        "_kg_hide-input": false,
        "trusted": true,
        "_uuid": "5526dee61bdba64496729808ec41b126752ce04b"
      },
      "cell_type": "code",
      "source": "census_tract_df=gpd.read_file(\"../input/orlando/cb_2016_12_tract_500k/cb_2016_12_tract_500k.shp\")\ncensus_tract_df.plot()",
      "execution_count": null,
      "outputs": []
    },
    {
      "metadata": {
        "_uuid": "111358f4cf841ac979ffe793b3b75638d1d41a0d"
      },
      "cell_type": "markdown",
      "source": "After check for overlap and updated the GEOid for each arrest record we now have the final data:"
    },
    {
      "metadata": {
        "trusted": true,
        "_uuid": "6211cbe57e4bb12a5ab484e025485d9646fb4927"
      },
      "cell_type": "code",
      "source": "final_arrest=pd.read_csv('../input/orlan-final/Dept_35-00016_arrest_GEo.csv')\nfinal_arrest.head()",
      "execution_count": null,
      "outputs": []
    },
    {
      "metadata": {
        "_uuid": "90ca2d6e626c98ff1a8944e72eccf58fb406de47"
      },
      "cell_type": "markdown",
      "source": "**For the check of loverlap and geometry relationship process, I did not include those functions and codes in the kernal due to the runtime of each department check"
    },
    {
      "metadata": {
        "trusted": true,
        "_uuid": "6943cc51954a2119ae36d7df1c12a2aa7d99170e"
      },
      "cell_type": "markdown",
      "source": "By the previous step, the data which laied out of the department range are excluded and also by analysing the subject race of each department, we will only include Black and White tow major races to calculate the arrest ratio and index ratio factors in the future.\nAfter preprocessing the data, the next step is to calculate the Racism Index and do the frequent pattern mining"
    },
    {
      "metadata": {
        "trusted": true,
        "_uuid": "f7d257113cd1210ade429b8e3f7c22f070a4f782"
      },
      "cell_type": "markdown",
      "source": "Contriburion:\nThe work is contribute by Shuaidong Pan, Faner Lin and Weijian Li"
    },
    {
      "metadata": {
        "trusted": true,
        "_uuid": "fe95b9e7db72a571791079c672da4f8da4278186"
      },
      "cell_type": "code",
      "source": "",
      "execution_count": null,
      "outputs": []
    }
  ],
  "metadata": {
    "kernelspec": {
      "display_name": "Python 3",
      "language": "python",
      "name": "python3"
    },
    "language_info": {
      "name": "python",
      "version": "3.6.6",
      "mimetype": "text/x-python",
      "codemirror_mode": {
        "name": "ipython",
        "version": 3
      },
      "pygments_lexer": "ipython3",
      "nbconvert_exporter": "python",
      "file_extension": ".py"
    }
  },
  "nbformat": 4,
  "nbformat_minor": 1
}